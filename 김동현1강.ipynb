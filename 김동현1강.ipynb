{
  "nbformat": 4,
  "nbformat_minor": 0,
  "metadata": {
    "colab": {
      "name": "김동현1강.ipynb",
      "provenance": [],
      "authorship_tag": "ABX9TyNft0sP+S23HwT5mqo0/0Jr",
      "include_colab_link": true
    },
    "kernelspec": {
      "name": "python3",
      "display_name": "Python 3"
    },
    "language_info": {
      "name": "python"
    }
  },
  "cells": [
    {
      "cell_type": "markdown",
      "metadata": {
        "id": "view-in-github",
        "colab_type": "text"
      },
      "source": [
        "<a href=\"https://colab.research.google.com/github/1701309/knu_DBNA_1701309/blob/main/%EA%B9%80%EB%8F%99%ED%98%841%EA%B0%95.ipynb\" target=\"_parent\"><img src=\"https://colab.research.google.com/assets/colab-badge.svg\" alt=\"Open In Colab\"/></a>"
      ]
    },
    {
      "cell_type": "code",
      "source": [
        "def greet():\n",
        "  print(\"hello world\")"
      ],
      "metadata": {
        "id": "t1MDIe3ng-iV"
      },
      "execution_count": 2,
      "outputs": []
    },
    {
      "cell_type": "code",
      "source": [
        "greet()"
      ],
      "metadata": {
        "colab": {
          "base_uri": "https://localhost:8080/"
        },
        "id": "HoX_AZARhoBK",
        "outputId": "f39031a5-1123-4f9c-9b30-436e625a6236"
      },
      "execution_count": 3,
      "outputs": [
        {
          "output_type": "stream",
          "name": "stdout",
          "text": [
            "hello world\n"
          ]
        }
      ]
    },
    {
      "cell_type": "code",
      "source": [
        "def add(a,b):\n",
        "  c=a+b\n",
        "  return c"
      ],
      "metadata": {
        "id": "AKPiPQzUhzEc"
      },
      "execution_count": 6,
      "outputs": []
    },
    {
      "cell_type": "code",
      "source": [
        "add(3,5)"
      ],
      "metadata": {
        "colab": {
          "base_uri": "https://localhost:8080/"
        },
        "id": "2Cm4_qhBh7lL",
        "outputId": "345f83da-a0b2-4ea3-ad7b-e026f5167440"
      },
      "execution_count": 5,
      "outputs": [
        {
          "output_type": "execute_result",
          "data": {
            "text/plain": [
              "8"
            ]
          },
          "metadata": {},
          "execution_count": 5
        }
      ]
    },
    {
      "cell_type": "code",
      "source": [
        "def multiply(a,b):\n",
        "  c=a*b\n",
        "  return c"
      ],
      "metadata": {
        "id": "BCp3r1mgh_Zu"
      },
      "execution_count": 7,
      "outputs": []
    },
    {
      "cell_type": "code",
      "source": [
        "multiply(3,5)"
      ],
      "metadata": {
        "colab": {
          "base_uri": "https://localhost:8080/"
        },
        "id": "NZ58YX-OiKLP",
        "outputId": "1ad979e7-3292-4e62-9e20-e52e1998db2d"
      },
      "execution_count": 8,
      "outputs": [
        {
          "output_type": "execute_result",
          "data": {
            "text/plain": [
              "15"
            ]
          },
          "metadata": {},
          "execution_count": 8
        }
      ]
    },
    {
      "cell_type": "code",
      "source": [
        "def greet2(name):\n",
        "  print(\"반갑습니다\", name)\n",
        "  print(name, \"님은 파어썬의 세계로 오셨습니다\")"
      ],
      "metadata": {
        "id": "BdNRuzPviObY"
      },
      "execution_count": 10,
      "outputs": []
    },
    {
      "cell_type": "code",
      "source": [
        "greet2(\"김동현\")"
      ],
      "metadata": {
        "colab": {
          "base_uri": "https://localhost:8080/"
        },
        "id": "BQjTvcfhjQQU",
        "outputId": "5737488b-2410-4e1e-def4-a398efbb6a7a"
      },
      "execution_count": 11,
      "outputs": [
        {
          "output_type": "stream",
          "name": "stdout",
          "text": [
            "반갑습니다 김동현\n",
            "김동현 님은 파어썬의 세계로 오셨습니다\n"
          ]
        }
      ]
    },
    {
      "cell_type": "code",
      "source": [
        "def adder(num1, num2):\n",
        "  sum=num1+num2\n",
        "  print(\"덧셈 결과 : \", num1+num2)"
      ],
      "metadata": {
        "id": "P3LMFg6AjcBh"
      },
      "execution_count": 12,
      "outputs": []
    },
    {
      "cell_type": "code",
      "source": [
        "adder(10,5)"
      ],
      "metadata": {
        "colab": {
          "base_uri": "https://localhost:8080/"
        },
        "id": "ROi3E7lbj7oh",
        "outputId": "94a0207d-0029-4bc6-ed5c-f061f41a9461"
      },
      "execution_count": 13,
      "outputs": [
        {
          "output_type": "stream",
          "name": "stdout",
          "text": [
            "덧셈 결과 :  15\n"
          ]
        }
      ]
    },
    {
      "cell_type": "code",
      "source": [
        "def adder(num1, num2):\n",
        "  sum=num1+num2\n",
        "  return sum"
      ],
      "metadata": {
        "id": "kkX2xafimNdt"
      },
      "execution_count": 19,
      "outputs": []
    },
    {
      "cell_type": "code",
      "source": [
        "def adder(num1, num2):\n",
        "  sum=num1+num2\n",
        "  return sum"
      ],
      "metadata": {
        "id": "1hmFo54EoOnO"
      },
      "execution_count": 27,
      "outputs": []
    },
    {
      "cell_type": "code",
      "source": [
        "def main():\n",
        "  print(adder(5,3))"
      ],
      "metadata": {
        "id": "Q1paNX8QpSI3"
      },
      "execution_count": 28,
      "outputs": []
    },
    {
      "cell_type": "code",
      "source": [
        "main()"
      ],
      "metadata": {
        "colab": {
          "base_uri": "https://localhost:8080/"
        },
        "id": "yEySwn_1prKr",
        "outputId": "eba20d01-41ad-494c-f6d3-094f859eacac"
      },
      "execution_count": 29,
      "outputs": [
        {
          "output_type": "stream",
          "name": "stdout",
          "text": [
            "8\n"
          ]
        }
      ]
    },
    {
      "cell_type": "code",
      "source": [
        "result=eval(input(\"뭐든 넣어요: \"))"
      ],
      "metadata": {
        "colab": {
          "base_uri": "https://localhost:8080/"
        },
        "id": "XfjRzLOqpsWn",
        "outputId": "7ad81553-a558-47d8-fcc4-80aa16561961"
      },
      "execution_count": 31,
      "outputs": [
        {
          "name": "stdout",
          "output_type": "stream",
          "text": [
            "뭐든 넣어요: 2-4*5+3\n"
          ]
        }
      ]
    },
    {
      "cell_type": "code",
      "source": [
        "result"
      ],
      "metadata": {
        "colab": {
          "base_uri": "https://localhost:8080/"
        },
        "id": "ecDf3F0MqSw_",
        "outputId": "2ad843de-cb19-46d1-e35d-f7785bb9e3e8"
      },
      "execution_count": 32,
      "outputs": [
        {
          "output_type": "execute_result",
          "data": {
            "text/plain": [
              "-15"
            ]
          },
          "metadata": {},
          "execution_count": 32
        }
      ]
    },
    {
      "cell_type": "code",
      "source": [
        "def ret():\n",
        "  return 12"
      ],
      "metadata": {
        "id": "vUd1ZNIIqiKM"
      },
      "execution_count": 33,
      "outputs": []
    },
    {
      "cell_type": "code",
      "source": [
        "result = eval(input(\"뭐든 넣어요: \"))"
      ],
      "metadata": {
        "colab": {
          "base_uri": "https://localhost:8080/"
        },
        "id": "xfTLCZQAq01N",
        "outputId": "9868de18-f00d-437e-f838-bf9861297cab"
      },
      "execution_count": 35,
      "outputs": [
        {
          "name": "stdout",
          "output_type": "stream",
          "text": [
            "뭐든 넣어요: ret()\n"
          ]
        }
      ]
    },
    {
      "cell_type": "code",
      "source": [
        "print(result)"
      ],
      "metadata": {
        "colab": {
          "base_uri": "https://localhost:8080/"
        },
        "id": "QP0eGya2q6Tn",
        "outputId": "43077ac3-cb53-4ed3-be60-c9e5d6cece9b"
      },
      "execution_count": 36,
      "outputs": [
        {
          "output_type": "stream",
          "name": "stdout",
          "text": [
            "12\n"
          ]
        }
      ]
    },
    {
      "cell_type": "code",
      "source": [
        "def greet_three_times():\n",
        "  print(\"hi\")\n",
        "  print(\"hi\")\n",
        "  print(\"hi\")"
      ],
      "metadata": {
        "id": "vmeVuKsmrCKs"
      },
      "execution_count": 37,
      "outputs": []
    },
    {
      "cell_type": "code",
      "source": [
        "greet_three_times()"
      ],
      "metadata": {
        "colab": {
          "base_uri": "https://localhost:8080/"
        },
        "id": "D6l8p-mUsT7k",
        "outputId": "bc2f4dba-53f5-4eda-a098-f91d27a4c113"
      },
      "execution_count": 38,
      "outputs": [
        {
          "output_type": "stream",
          "name": "stdout",
          "text": [
            "hi\n",
            "hi\n",
            "hi\n"
          ]
        }
      ]
    },
    {
      "cell_type": "code",
      "source": [
        "def greet_10(num):\n",
        "  if(num>0):\n",
        "    print(\"hi\")\n",
        "    num=num-1\n",
        "    greet_10(num)"
      ],
      "metadata": {
        "id": "7KIC8sdpsX1Y"
      },
      "execution_count": 39,
      "outputs": []
    },
    {
      "cell_type": "code",
      "source": [
        "greet_10(3)"
      ],
      "metadata": {
        "colab": {
          "base_uri": "https://localhost:8080/"
        },
        "id": "IhDn4h_msmE5",
        "outputId": "bf1358f1-d902-4f7a-aabe-f8b73523993a"
      },
      "execution_count": 40,
      "outputs": [
        {
          "output_type": "stream",
          "name": "stdout",
          "text": [
            "hi\n",
            "hi\n",
            "hi\n"
          ]
        }
      ]
    },
    {
      "cell_type": "code",
      "source": [
        "sum=0\n",
        "for i in range(1,11):\n",
        "  sum=sum+i"
      ],
      "metadata": {
        "id": "anVwI9MvsniP"
      },
      "execution_count": 41,
      "outputs": []
    },
    {
      "cell_type": "code",
      "source": [
        "import random\n",
        "\n",
        "NUMBER_OF_TRIALS = 50\n",
        "numberOfHits = 0\n",
        "for i in range(NUMBER_OF_TRIALS):\n",
        "  x = random.random()*2-1\n",
        "  y = random.random()*2-1\n",
        "  if x*x+y*y<=1:\n",
        "    numberOfHits += 1\n",
        "\n",
        "    pi = 4* numberOfHits / NUMBER_OF_TRIALS\n",
        "    print(\"PI는\", pi,\"입니다\") \n",
        "    #TRIALS 값을 5000000으로 설정시 계산이 너무 길어 50으로 설정하였음을 알립니다."
      ],
      "metadata": {
        "colab": {
          "base_uri": "https://localhost:8080/"
        },
        "id": "tAJJqqg0uCwG",
        "outputId": "7fdaa284-c879-4794-b6aa-6389424eeb90"
      },
      "execution_count": 52,
      "outputs": [
        {
          "output_type": "stream",
          "name": "stdout",
          "text": [
            "PI는 0.08 입니다\n",
            "PI는 0.16 입니다\n",
            "PI는 0.24 입니다\n",
            "PI는 0.32 입니다\n",
            "PI는 0.4 입니다\n",
            "PI는 0.48 입니다\n",
            "PI는 0.56 입니다\n",
            "PI는 0.64 입니다\n",
            "PI는 0.72 입니다\n",
            "PI는 0.8 입니다\n",
            "PI는 0.88 입니다\n",
            "PI는 0.96 입니다\n",
            "PI는 1.04 입니다\n",
            "PI는 1.12 입니다\n",
            "PI는 1.2 입니다\n",
            "PI는 1.28 입니다\n",
            "PI는 1.36 입니다\n",
            "PI는 1.44 입니다\n",
            "PI는 1.52 입니다\n",
            "PI는 1.6 입니다\n",
            "PI는 1.68 입니다\n",
            "PI는 1.76 입니다\n",
            "PI는 1.84 입니다\n",
            "PI는 1.92 입니다\n",
            "PI는 2.0 입니다\n",
            "PI는 2.08 입니다\n",
            "PI는 2.16 입니다\n",
            "PI는 2.24 입니다\n",
            "PI는 2.32 입니다\n",
            "PI는 2.4 입니다\n",
            "PI는 2.48 입니다\n",
            "PI는 2.56 입니다\n",
            "PI는 2.64 입니다\n",
            "PI는 2.72 입니다\n",
            "PI는 2.8 입니다\n",
            "PI는 2.88 입니다\n",
            "PI는 2.96 입니다\n",
            "PI는 3.04 입니다\n",
            "PI는 3.12 입니다\n"
          ]
        }
      ]
    },
    {
      "cell_type": "code",
      "source": [
        "import random\n",
        "\n",
        "NUMBER_OF_TRIALS = 50\n",
        "numberOfHits = 0\n",
        "i=0\n",
        "while (i<NUMBER_OF_TRIALS):\n",
        "  x = random.random()*2-1\n",
        "  y = random.random()*2-1\n",
        "  if x*x+y*y<=1:\n",
        "    numberOfHits += 1\n",
        "    \n",
        "    i=i+1\n",
        "\n",
        "    pi = 4* numberOfHits / NUMBER_OF_TRIALS\n",
        "    print(\"PI는\", pi,\"입니다\") \n",
        "    #TRIALS 값을 5000000으로 설정시 계산이 너무 길어 50으로 설정하였음을 알립니다."
      ],
      "metadata": {
        "colab": {
          "base_uri": "https://localhost:8080/"
        },
        "id": "mGC0q-5EvTN0",
        "outputId": "3c26a377-5068-464e-e3c8-f913c25c2d03"
      },
      "execution_count": 55,
      "outputs": [
        {
          "output_type": "stream",
          "name": "stdout",
          "text": [
            "PI는 0.08 입니다\n",
            "PI는 0.16 입니다\n",
            "PI는 0.24 입니다\n",
            "PI는 0.32 입니다\n",
            "PI는 0.4 입니다\n",
            "PI는 0.48 입니다\n",
            "PI는 0.56 입니다\n",
            "PI는 0.64 입니다\n",
            "PI는 0.72 입니다\n",
            "PI는 0.8 입니다\n",
            "PI는 0.88 입니다\n",
            "PI는 0.96 입니다\n",
            "PI는 1.04 입니다\n",
            "PI는 1.12 입니다\n",
            "PI는 1.2 입니다\n",
            "PI는 1.28 입니다\n",
            "PI는 1.36 입니다\n",
            "PI는 1.44 입니다\n",
            "PI는 1.52 입니다\n",
            "PI는 1.6 입니다\n",
            "PI는 1.68 입니다\n",
            "PI는 1.76 입니다\n",
            "PI는 1.84 입니다\n",
            "PI는 1.92 입니다\n",
            "PI는 2.0 입니다\n",
            "PI는 2.08 입니다\n",
            "PI는 2.16 입니다\n",
            "PI는 2.24 입니다\n",
            "PI는 2.32 입니다\n",
            "PI는 2.4 입니다\n",
            "PI는 2.48 입니다\n",
            "PI는 2.56 입니다\n",
            "PI는 2.64 입니다\n",
            "PI는 2.72 입니다\n",
            "PI는 2.8 입니다\n",
            "PI는 2.88 입니다\n",
            "PI는 2.96 입니다\n",
            "PI는 3.04 입니다\n",
            "PI는 3.12 입니다\n",
            "PI는 3.2 입니다\n",
            "PI는 3.28 입니다\n",
            "PI는 3.36 입니다\n",
            "PI는 3.44 입니다\n",
            "PI는 3.52 입니다\n",
            "PI는 3.6 입니다\n",
            "PI는 3.68 입니다\n",
            "PI는 3.76 입니다\n",
            "PI는 3.84 입니다\n",
            "PI는 3.92 입니다\n",
            "PI는 4.0 입니다\n"
          ]
        }
      ]
    },
    {
      "cell_type": "code",
      "source": [
        "money = 2000\n",
        "card = True\n",
        "if money >= 3000 or card:\n",
        "  print(\"택시를 타고 가라\")"
      ],
      "metadata": {
        "colab": {
          "base_uri": "https://localhost:8080/"
        },
        "id": "vuLHY5PCxXNX",
        "outputId": "e5f81d1e-561e-4854-b05f-92eb8791b493"
      },
      "execution_count": 59,
      "outputs": [
        {
          "output_type": "stream",
          "name": "stdout",
          "text": [
            "택시를 타고 가라\n"
          ]
        }
      ]
    },
    {
      "cell_type": "code",
      "source": [
        ""
      ],
      "metadata": {
        "id": "9hzna1Maxs6K"
      },
      "execution_count": null,
      "outputs": []
    }
  ]
}